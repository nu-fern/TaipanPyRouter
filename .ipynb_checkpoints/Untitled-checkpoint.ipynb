{
 "cells": [
  {
   "cell_type": "code",
   "execution_count": 39,
   "metadata": {
    "collapsed": false,
    "deletable": true,
    "editable": true
   },
   "outputs": [],
   "source": [
    "import os\n",
    "import numpy as np\n",
    "_, folders, _ = os.walk('.').next()\n",
    "folders = np.array(folders)\n",
    "firsts = [w[:3] for w in folders]\n",
    "runs = np.array(firsts)=='run'\n",
    "runsUsed = np.array([w[4:] for w in folders[runs]]).astype(int)\n",
    "\n",
    "# folderName = 'run_'+ str(np.max(runsUsed)+1)"
   ]
  },
  {
   "cell_type": "code",
   "execution_count": 43,
   "metadata": {
    "collapsed": false,
    "deletable": true,
    "editable": true
   },
   "outputs": [
    {
     "data": {
      "text/plain": [
       "array([], dtype=int64)"
      ]
     },
     "execution_count": 43,
     "metadata": {},
     "output_type": "execute_result"
    }
   ],
   "source": [
    "runsUsed"
   ]
  },
  {
   "cell_type": "code",
   "execution_count": 36,
   "metadata": {
    "collapsed": false,
    "deletable": true,
    "editable": true
   },
   "outputs": [],
   "source": [
    "_, folders, _ = os.walk('.').next()\n",
    "folders = np.array(folders)\n",
    "firsts = [w[:3] for w in folders]\n",
    "runs = np.array(firsts)=='run'\n",
    "runsUsed = np.array([w[4:] for w in folders[runs]]).astype(int)\n",
    "\n",
    "folderName = 'run_'+ str(np.max(runsUsed)+1)"
   ]
  },
  {
   "cell_type": "code",
   "execution_count": 37,
   "metadata": {
    "collapsed": false,
    "deletable": true,
    "editable": true
   },
   "outputs": [
    {
     "data": {
      "text/plain": [
       "'run_124'"
      ]
     },
     "execution_count": 37,
     "metadata": {},
     "output_type": "execute_result"
    }
   ],
   "source": [
    "folderName"
   ]
  },
  {
   "cell_type": "code",
   "execution_count": 13,
   "metadata": {
    "collapsed": false,
    "deletable": true,
    "editable": true
   },
   "outputs": [],
   "source": [
    "a = np.array(folders)"
   ]
  },
  {
   "cell_type": "code",
   "execution_count": 15,
   "metadata": {
    "collapsed": false,
    "deletable": true,
    "editable": true
   },
   "outputs": [
    {
     "data": {
      "text/plain": [
       "array([False, False, False, False, False, False], dtype=bool)"
      ]
     },
     "execution_count": 15,
     "metadata": {},
     "output_type": "execute_result"
    }
   ],
   "source": [
    "a=='run'"
   ]
  },
  {
   "cell_type": "code",
   "execution_count": 53,
   "metadata": {
    "collapsed": true,
    "deletable": true,
    "editable": true
   },
   "outputs": [],
   "source": [
    "import numpy as np"
   ]
  },
  {
   "cell_type": "code",
   "execution_count": 56,
   "metadata": {
    "collapsed": false,
    "deletable": true,
    "editable": true
   },
   "outputs": [],
   "source": [
    "from scipy.spatial import distance   "
   ]
  },
  {
   "cell_type": "code",
   "execution_count": 58,
   "metadata": {
    "collapsed": false,
    "deletable": true,
    "editable": true
   },
   "outputs": [],
   "source": [
    "a = np.random.rand(10,2)"
   ]
  },
  {
   "cell_type": "code",
   "execution_count": 59,
   "metadata": {
    "collapsed": false,
    "deletable": true,
    "editable": true
   },
   "outputs": [],
   "source": [
    "R2d = distance.cdist(a, a, 'euclidean')"
   ]
  },
  {
   "cell_type": "code",
   "execution_count": 60,
   "metadata": {
    "collapsed": false,
    "deletable": true,
    "editable": true
   },
   "outputs": [
    {
     "data": {
      "text/plain": [
       "(10, 10)"
      ]
     },
     "execution_count": 60,
     "metadata": {},
     "output_type": "execute_result"
    }
   ],
   "source": [
    "R2d.shape"
   ]
  },
  {
   "cell_type": "code",
   "execution_count": 91,
   "metadata": {
    "collapsed": false,
    "deletable": true,
    "editable": true
   },
   "outputs": [
    {
     "name": "stdout",
     "output_type": "stream",
     "text": [
      "[0 1 2 3 4 5 6 7 8 9]\n",
      "(array([0, 0, 0, 1, 1, 1, 1, 1, 1, 2, 2, 2, 2, 2, 2, 3, 3, 3, 3, 3, 4, 4, 4,\n",
      "       5, 5, 5, 5, 5, 6, 6, 6, 6, 6, 7, 8, 8, 8, 9, 9, 9]), array([0, 4, 8, 1, 2, 3, 5, 6, 9, 1, 2, 3, 5, 6, 9, 1, 2, 3, 5, 6, 0, 4, 8,\n",
      "       1, 2, 3, 5, 6, 1, 2, 3, 5, 6, 7, 0, 4, 8, 1, 2, 9]))\n"
     ]
    }
   ],
   "source": [
    "b = np.where(R2d<0.4)\n",
    "print np.unique(b)\n",
    "print b"
   ]
  },
  {
   "cell_type": "code",
   "execution_count": 92,
   "metadata": {
    "collapsed": false,
    "deletable": true,
    "editable": true,
    "scrolled": true
   },
   "outputs": [
    {
     "name": "stdout",
     "output_type": "stream",
     "text": [
      "(0, 0)\n",
      "(0, 4)\n",
      "(0, 8)\n",
      "(1, 1)\n",
      "(1, 2)\n",
      "(1, 3)\n",
      "(1, 5)\n",
      "(1, 6)\n",
      "(1, 9)\n",
      "(2, 1)\n",
      "(2, 2)\n",
      "(2, 3)\n",
      "(2, 5)\n",
      "(2, 6)\n",
      "(2, 9)\n",
      "(3, 1)\n",
      "(3, 2)\n",
      "(3, 3)\n",
      "(3, 5)\n",
      "(3, 6)\n",
      "(4, 0)\n",
      "(4, 4)\n",
      "(4, 8)\n",
      "(5, 1)\n",
      "(5, 2)\n",
      "(5, 3)\n",
      "(5, 5)\n",
      "(5, 6)\n",
      "(6, 1)\n",
      "(6, 2)\n",
      "(6, 3)\n",
      "(6, 5)\n",
      "(6, 6)\n",
      "(7, 7)\n",
      "(8, 0)\n",
      "(8, 4)\n",
      "(8, 8)\n",
      "(9, 1)\n",
      "(9, 2)\n",
      "(9, 9)\n"
     ]
    }
   ],
   "source": [
    "for i in zip(b[0],b[1]):\n",
    "    print i"
   ]
  },
  {
   "cell_type": "code",
   "execution_count": 84,
   "metadata": {
    "collapsed": false,
    "deletable": true,
    "editable": true
   },
   "outputs": [
    {
     "data": {
      "text/plain": [
       "array([[0, 0, 0, 0, 2, 3, 5, 6],\n",
       "       [2, 3, 5, 6, 0, 0, 0, 0]])"
      ]
     },
     "execution_count": 84,
     "metadata": {},
     "output_type": "execute_result"
    }
   ],
   "source": [
    "np.array(b)"
   ]
  },
  {
   "cell_type": "code",
   "execution_count": 95,
   "metadata": {
    "collapsed": false,
    "deletable": true,
    "editable": true
   },
   "outputs": [
    {
     "data": {
      "text/plain": [
       "array([2, 3, 4, 5, 6, 8, 9])"
      ]
     },
     "execution_count": 95,
     "metadata": {},
     "output_type": "execute_result"
    }
   ],
   "source": [
    "np.unique(b[0][b[0]>b[1]])"
   ]
  },
  {
   "cell_type": "code",
   "execution_count": 89,
   "metadata": {
    "collapsed": false,
    "deletable": true,
    "editable": true
   },
   "outputs": [
    {
     "data": {
      "text/plain": [
       "array([0, 1, 2, 3, 4, 5, 6, 7, 8, 9])"
      ]
     },
     "execution_count": 89,
     "metadata": {},
     "output_type": "execute_result"
    }
   ],
   "source": [
    "b[1]"
   ]
  },
  {
   "cell_type": "code",
   "execution_count": 96,
   "metadata": {
    "collapsed": true,
    "deletable": true,
    "editable": true
   },
   "outputs": [],
   "source": [
    "def openS2JSONTile(fileName, folder = './jsonTiles_s2'):\n",
    "    '''\n",
    "    Reads the JSON file containing the target information (S2)\n",
    "    \n",
    "    Args:\n",
    "        filename (str) : The name of the input file\n",
    "        folder (str) : The location of the input file\n",
    "        \n",
    "    Returns:\n",
    "        bugsXY (np.ndarray) : Bugs requested position [[x,y]] indexed by LemoId-1 \n",
    "        \n",
    "    Note:\n",
    "        - Currently hardcoded array size to 309,2\n",
    "    '''\n",
    "\n",
    "    with open(folder + '/' + fileName, 'r') as f:\n",
    "        data = json.loads(f.read())\n",
    "\n",
    "\n",
    "    bugsTargetXY = np.ones((309,2)) * np.nan\n",
    "    bugTargetTypes = np.ones(309) * np.nan\n",
    "    reqGuideBugsIdx = []\n",
    "    reqScienceBugsIdx = []\n",
    "    \n",
    "    #Collects all found bug data\n",
    "    for i,thisData in enumerate([data['guideStars'], data['sky'], data['targets']]):\n",
    "\n",
    "        for thisBug in thisData:\n",
    "            if i == 0:\n",
    "                reqGuideBugsIdx.append(thisBug['sbID']-1)\n",
    "            else:\n",
    "                reqScienceBugsIdx.append(thisBug['sbID']-1)\n",
    "            \n",
    "            bugsTargetXY[thisBug['sbID']-1,:] = [thisBug['xMicrons'], thisBug['yMicrons']]    \n",
    "            \n",
    "            bugTargetTypes[thisBug['sbID']-1] = i \n",
    "\n",
    "\n",
    "    return bugsTargetXY, bugTargetTypes"
   ]
  },
  {
   "cell_type": "code",
   "execution_count": 100,
   "metadata": {
    "collapsed": false,
    "deletable": true,
    "editable": true
   },
   "outputs": [],
   "source": [
    "import json\n",
    "bugsTargetXY, bugTargetTypes = openS2JSONTile('s2_example.json')"
   ]
  },
  {
   "cell_type": "code",
   "execution_count": 102,
   "metadata": {
    "collapsed": false,
    "deletable": true,
    "editable": true
   },
   "outputs": [
    {
     "data": {
      "text/plain": [
       "(309, 2)"
      ]
     },
     "execution_count": 102,
     "metadata": {},
     "output_type": "execute_result"
    }
   ],
   "source": [
    "bugsTargetXY.shape"
   ]
  },
  {
   "cell_type": "code",
   "execution_count": 104,
   "metadata": {
    "collapsed": false,
    "deletable": true,
    "editable": true
   },
   "outputs": [
    {
     "data": {
      "text/plain": [
       "(array([[             nan,              nan],\n",
       "        [             nan,              nan],\n",
       "        [-105715.00148985,   72155.85433363],\n",
       "        [-143731.85215023,   56609.40448994],\n",
       "        [-157456.86768832,   36729.86011707],\n",
       "        [-151675.36406999,   12470.02537639],\n",
       "        [             nan,              nan],\n",
       "        [             nan,              nan],\n",
       "        [             nan,              nan],\n",
       "        [             nan,              nan],\n",
       "        [             nan,              nan],\n",
       "        [             nan,              nan],\n",
       "        [             nan,              nan],\n",
       "        [             nan,              nan],\n",
       "        [             nan,              nan],\n",
       "        [             nan,              nan],\n",
       "        [ -87671.17894814,  131598.82973152],\n",
       "        [-107850.27791173,  123189.43914192],\n",
       "        [-100423.63778602,   96324.20451214],\n",
       "        [-116278.07177559,   92076.32546877],\n",
       "        [-108669.39049869,   82748.84568111],\n",
       "        [ -99545.39629154,   63710.73340568],\n",
       "        [-112371.00882638,   11805.49367621],\n",
       "        [-137481.78635371,    1376.23412075],\n",
       "        [-123087.96633561,    2337.78029935],\n",
       "        [-147581.30137893,  -18308.0674658 ],\n",
       "        [-131283.26746946,  -47352.57179729],\n",
       "        [-120927.12160346,  -52874.90795324],\n",
       "        [             nan,              nan],\n",
       "        [             nan,              nan],\n",
       "        [             nan,              nan],\n",
       "        [             nan,              nan],\n",
       "        [             nan,              nan],\n",
       "        [             nan,              nan],\n",
       "        [             nan,              nan],\n",
       "        [             nan,              nan],\n",
       "        [             nan,              nan],\n",
       "        [             nan,              nan],\n",
       "        [             nan,              nan],\n",
       "        [             nan,              nan],\n",
       "        [             nan,              nan],\n",
       "        [             nan,              nan],\n",
       "        [             nan,              nan],\n",
       "        [ -39330.62073508,  156276.96672454],\n",
       "        [ -78966.59411762,   88990.59294621],\n",
       "        [ -60031.29819547,  113167.33683582],\n",
       "        [ -66538.72269746,   73586.79643173],\n",
       "        [ -79055.71929298,   75379.80550768],\n",
       "        [ -89771.96679404,   66910.82506739],\n",
       "        [ -93141.84390237,   34481.55886139],\n",
       "        [ -83415.32099652,   25178.22537313],\n",
       "        [ -90014.90922809,    8945.78160722],\n",
       "        [-105870.40782758,  -12869.91338806],\n",
       "        [-103685.15480129,  -22389.90616229],\n",
       "        [-104628.26833726,  -46397.64941021],\n",
       "        [ -92109.2876742 ,  -65460.0798806 ],\n",
       "        [-115806.89170921,  -68432.87088382],\n",
       "        [             nan,              nan],\n",
       "        [             nan,              nan],\n",
       "        [             nan,              nan],\n",
       "        [             nan,              nan],\n",
       "        [             nan,              nan],\n",
       "        [             nan,              nan],\n",
       "        [             nan,              nan],\n",
       "        [             nan,              nan],\n",
       "        [             nan,              nan],\n",
       "        [             nan,              nan],\n",
       "        [             nan,              nan],\n",
       "        [             nan,              nan],\n",
       "        [             nan,              nan],\n",
       "        [             nan,              nan],\n",
       "        [             nan,              nan],\n",
       "        [             nan,              nan],\n",
       "        [             nan,              nan],\n",
       "        [ -12292.71253363,  152307.36304922],\n",
       "        [ -14905.07142747,  121106.18095522],\n",
       "        [ -28386.87484662,  128794.29936193],\n",
       "        [ -46069.56810742,   78779.41646149],\n",
       "        [ -39416.28838897,   81603.34675115],\n",
       "        [ -60101.77512362,   82410.60994337],\n",
       "        [ -71785.32187659,   54166.76916857],\n",
       "        [ -60114.01734787,   57451.52674062],\n",
       "        [ -79403.13041933,   47325.92274822],\n",
       "        [ -68555.08492338,   -8517.27289231],\n",
       "        [ -64501.17857496,  -29723.59883135],\n",
       "        [ -82389.30790404,  -33904.42203749],\n",
       "        [ -93719.82243012,  -36063.18582568],\n",
       "        [ -95284.78208089,  -51802.58972819],\n",
       "        [ -83582.13576209,  -81227.53898342],\n",
       "        [-111005.60475496,  -88392.64864325],\n",
       "        [             nan,              nan],\n",
       "        [             nan,              nan],\n",
       "        [             nan,              nan],\n",
       "        [             nan,              nan],\n",
       "        [             nan,              nan],\n",
       "        [             nan,              nan],\n",
       "        [             nan,              nan],\n",
       "        [             nan,              nan],\n",
       "        [             nan,              nan],\n",
       "        [ -52837.81852085,   32820.5984676 ],\n",
       "        [ -57597.41070595,   22647.37487263],\n",
       "        [             nan,              nan],\n",
       "        [             nan,              nan],\n",
       "        [             nan,              nan],\n",
       "        [             nan,              nan],\n",
       "        [             nan,              nan],\n",
       "        [             nan,              nan],\n",
       "        [             nan,              nan],\n",
       "        [             nan,              nan],\n",
       "        [ -11588.36755633,  132853.5096027 ],\n",
       "        [   2406.52492177,  122967.6473604 ],\n",
       "        [  -2005.57114442,  106417.89344473],\n",
       "        [  -5822.90152669,  109758.9370058 ],\n",
       "        [ -19250.97444108,   68692.48507803],\n",
       "        [ -30788.72885911,   68848.71797015],\n",
       "        [ -46672.90355719,   55966.00244776],\n",
       "        [ -36917.43080063,   48267.33841862],\n",
       "        [ -28486.24562975,    7875.955427  ],\n",
       "        [ -46337.17957442,  -24169.08871229],\n",
       "        [ -45806.7371059 ,  -43561.96827356],\n",
       "        [ -30688.52506105,  -53757.6689829 ],\n",
       "        [ -60148.35993059,  -59413.86736616],\n",
       "        [ -73957.31608985,  -60692.07508576],\n",
       "        [ -38588.78282734,  -95211.23673081],\n",
       "        [ -55980.88656889, -118181.08650087],\n",
       "        [ -62760.50242436, -139604.05861009],\n",
       "        [             nan,              nan],\n",
       "        [             nan,              nan],\n",
       "        [             nan,              nan],\n",
       "        [             nan,              nan],\n",
       "        [             nan,              nan],\n",
       "        [             nan,              nan],\n",
       "        [             nan,              nan],\n",
       "        [             nan,              nan],\n",
       "        [ -31261.78091131,   17417.21641791],\n",
       "        [ -41090.12491436,   27162.51606737],\n",
       "        [ -44324.80004493,    2859.71441795],\n",
       "        [ -31769.15205156,  -43362.09318085],\n",
       "        [             nan,              nan],\n",
       "        [             nan,              nan],\n",
       "        [             nan,              nan],\n",
       "        [             nan,              nan],\n",
       "        [             nan,              nan],\n",
       "        [             nan,              nan],\n",
       "        [             nan,              nan],\n",
       "        [             nan,              nan],\n",
       "        [  19615.05477689,  119667.35903852],\n",
       "        [  -3767.62505972,  123366.89628096],\n",
       "        [  27939.1249123 ,   95163.58692537],\n",
       "        [   8796.46033234,   95061.04966751],\n",
       "        [  -7667.07385493,   80807.21402505],\n",
       "        [   2082.37604141,   83216.16786264],\n",
       "        [ -24496.64083544,   35330.04161194],\n",
       "        [ -20806.9209838 ,   -2255.98088019],\n",
       "        [   -167.82520208,   -2219.98137313],\n",
       "        [ -27688.07187057,    4710.28943284],\n",
       "        [ -31802.55738543,  -31887.91445145],\n",
       "        [  -4307.2454423 ,  -70173.2406961 ],\n",
       "        [ -17651.59093663,  -65793.72832336],\n",
       "        [ -32336.12301437,  -78613.9495828 ],\n",
       "        [ -23336.1612726 ,  -91267.0441791 ],\n",
       "        [ -35128.86851925, -108080.93988488],\n",
       "        [ -26540.17944802, -141212.99303437],\n",
       "        [ -46739.75126856, -140395.33256678],\n",
       "        [             nan,              nan],\n",
       "        [             nan,              nan],\n",
       "        [             nan,              nan],\n",
       "        [             nan,              nan],\n",
       "        [             nan,              nan],\n",
       "        [             nan,              nan],\n",
       "        [  25275.60423429,   37506.51116469],\n",
       "        [  -9356.4400496 ,   40796.05009693],\n",
       "        [  28333.25200434,  -22056.22301408],\n",
       "        [ -14212.82194113,  -23493.73157326],\n",
       "        [  -4537.9045645 ,  -45492.42513435],\n",
       "        [   2976.38034715,  -64957.34948501],\n",
       "        [             nan,              nan],\n",
       "        [             nan,              nan],\n",
       "        [             nan,              nan],\n",
       "        [             nan,              nan],\n",
       "        [             nan,              nan],\n",
       "        [             nan,              nan],\n",
       "        [  68219.50920055,  138838.03995465],\n",
       "        [  65261.92115565,  123792.76789742],\n",
       "        [  26608.43373306,  108742.14296672],\n",
       "        [  48131.29896979,  113545.68113102],\n",
       "        [  38371.6307437 ,  111076.46167164],\n",
       "        [  37663.74610977,   74231.93652422],\n",
       "        [  48622.14699187,   48040.88193794],\n",
       "        [  25972.60440033,   15874.15958993],\n",
       "        [  34253.42120601,    -818.486976  ],\n",
       "        [  18507.32419635,  -26955.81260185],\n",
       "        [  11176.24596593,  -32342.86317397],\n",
       "        [  25667.02094145,  -40457.11736381],\n",
       "        [  19917.10141676,  -60694.86659329],\n",
       "        [   8957.41325278,  -91975.21581631],\n",
       "        [   6418.21092048,  -89953.98420648],\n",
       "        [  -2923.30998331, -131961.19659767],\n",
       "        [  -2406.52528493, -122963.98508325],\n",
       "        [ -12710.69664463, -153868.92425696],\n",
       "        [             nan,              nan],\n",
       "        [             nan,              nan],\n",
       "        [             nan,              nan],\n",
       "        [             nan,              nan],\n",
       "        [             nan,              nan],\n",
       "        [             nan,              nan],\n",
       "        [             nan,              nan],\n",
       "        [  64197.53246625,   37120.87156273],\n",
       "        [  66486.07193213,   -7694.79150966],\n",
       "        [             nan,              nan],\n",
       "        [             nan,              nan],\n",
       "        [             nan,              nan],\n",
       "        [             nan,              nan],\n",
       "        [             nan,              nan],\n",
       "        [             nan,              nan],\n",
       "        [             nan,              nan],\n",
       "        [             nan,              nan],\n",
       "        [             nan,              nan],\n",
       "        [  81410.63480342,  132874.51178956],\n",
       "        [  60824.4342648 ,   92284.32573134],\n",
       "        [  83571.92552032,   85619.30703333],\n",
       "        [  67192.5247091 ,   83340.14561194],\n",
       "        [  74744.28267485,   52243.03550466],\n",
       "        [  64664.72703107,   48184.05775833],\n",
       "        [  65914.0019543 ,   18998.28351646],\n",
       "        [  85266.03431383,   16915.12750762],\n",
       "        [  61891.93990851,  -32004.8768855 ],\n",
       "        [  45071.35141139,  -51136.64629132],\n",
       "        [  60719.2537897 ,  -55320.4038072 ],\n",
       "        [  54616.76294696,  -67369.67354947],\n",
       "        [  39927.81311284, -134602.2738649 ],\n",
       "        [  48952.95902362, -137645.06586192],\n",
       "        [  30586.29958071, -113821.243057  ],\n",
       "        [  27856.82652875, -154866.31142072],\n",
       "        [             nan,              nan],\n",
       "        [             nan,              nan],\n",
       "        [             nan,              nan],\n",
       "        [             nan,              nan],\n",
       "        [             nan,              nan],\n",
       "        [             nan,              nan],\n",
       "        [             nan,              nan],\n",
       "        [             nan,              nan],\n",
       "        [             nan,              nan],\n",
       "        [             nan,              nan],\n",
       "        [             nan,              nan],\n",
       "        [             nan,              nan],\n",
       "        [             nan,              nan],\n",
       "        [             nan,              nan],\n",
       "        [             nan,              nan],\n",
       "        [             nan,              nan],\n",
       "        [             nan,              nan],\n",
       "        [  85444.33345346,  124598.29935796],\n",
       "        [  76684.86224182,   74654.01349254],\n",
       "        [ 101995.53380155,   62006.9958806 ],\n",
       "        [  81888.32870386,   36591.34364692],\n",
       "        [ 110645.86832031,   24177.54688886],\n",
       "        [  91222.03969979,    8183.2264298 ],\n",
       "        [  86582.25799108,  -26206.33944309],\n",
       "        [  81422.83471573,  -17075.52752239],\n",
       "        [  92271.02278461,  -52248.34815991],\n",
       "        [  75645.56600394,  -66838.30666493],\n",
       "        [  97640.63439535, -107604.7551003 ],\n",
       "        [  64029.93422485, -127708.61534973],\n",
       "        [  65718.62807002, -102738.61289552],\n",
       "        [  80097.31566574, -127136.35682905],\n",
       "        [             nan,              nan],\n",
       "        [             nan,              nan],\n",
       "        [             nan,              nan],\n",
       "        [             nan,              nan],\n",
       "        [             nan,              nan],\n",
       "        [             nan,              nan],\n",
       "        [             nan,              nan],\n",
       "        [             nan,              nan],\n",
       "        [             nan,              nan],\n",
       "        [             nan,              nan],\n",
       "        [             nan,              nan],\n",
       "        [             nan,              nan],\n",
       "        [             nan,              nan],\n",
       "        [             nan,              nan],\n",
       "        [             nan,              nan],\n",
       "        [  80507.05599449,   89565.70710047],\n",
       "        [ 140481.23604699,   50150.87847116],\n",
       "        [ 141547.65229392,   29823.99546902],\n",
       "        [ 127509.4035285 ,   23874.33411241],\n",
       "        [ 137309.85771479,   13286.03403115],\n",
       "        [ 135241.03446182,   -4863.35080725],\n",
       "        [ 149582.08113523,  -32970.70619893],\n",
       "        [ 100060.29257645,  -29513.60779526],\n",
       "        [ 108698.52486306,  -64257.22322185],\n",
       "        [ 116064.63684003, -105886.60794692],\n",
       "        [  96540.13366971,  -93363.12467809],\n",
       "        [  92028.33822624, -129360.63732956],\n",
       "        [             nan,              nan],\n",
       "        [             nan,              nan],\n",
       "        [             nan,              nan],\n",
       "        [             nan,              nan],\n",
       "        [             nan,              nan],\n",
       "        [             nan,              nan],\n",
       "        [             nan,              nan],\n",
       "        [             nan,              nan],\n",
       "        [             nan,              nan],\n",
       "        [             nan,              nan],\n",
       "        [             nan,              nan],\n",
       "        [             nan,              nan],\n",
       "        [ 160570.78807264,   16266.35546663],\n",
       "        [ 142822.11067273,  -31674.32597525],\n",
       "        [ 154267.69070973,  -23383.00174397],\n",
       "        [ 141822.37624157,  -57296.94510066],\n",
       "        [             nan,              nan]]),\n",
       " array([ nan,  nan,   2.,   2.,   2.,   1.,  nan,  nan,  nan,  nan,  nan,\n",
       "         nan,  nan,  nan,  nan,  nan,   1.,   2.,   2.,   2.,   2.,   2.,\n",
       "          2.,   2.,   1.,   2.,   2.,   2.,  nan,  nan,  nan,  nan,  nan,\n",
       "         nan,  nan,  nan,  nan,  nan,  nan,  nan,  nan,  nan,  nan,   2.,\n",
       "          2.,   0.,   2.,   2.,   2.,   2.,   0.,   1.,   2.,   2.,   2.,\n",
       "          0.,   2.,  nan,  nan,  nan,  nan,  nan,  nan,  nan,  nan,  nan,\n",
       "         nan,  nan,  nan,  nan,  nan,  nan,  nan,  nan,   2.,   2.,   2.,\n",
       "          2.,   1.,   2.,   2.,   2.,   2.,   2.,   2.,   2.,   2.,   2.,\n",
       "          1.,   2.,  nan,  nan,  nan,  nan,  nan,  nan,  nan,  nan,  nan,\n",
       "          2.,   2.,  nan,  nan,  nan,  nan,  nan,  nan,  nan,  nan,   2.,\n",
       "          1.,   1.,   2.,   2.,   2.,   2.,   2.,   1.,   2.,   2.,   2.,\n",
       "          2.,   2.,   2.,   2.,   2.,  nan,  nan,  nan,  nan,  nan,  nan,\n",
       "         nan,  nan,   2.,   2.,   2.,   2.,  nan,  nan,  nan,  nan,  nan,\n",
       "         nan,  nan,  nan,   2.,   2.,   0.,   2.,   2.,   2.,   2.,   2.,\n",
       "          0.,   2.,   2.,   2.,   1.,   2.,   0.,   2.,   2.,   2.,  nan,\n",
       "         nan,  nan,  nan,  nan,  nan,   1.,   2.,   2.,   2.,   2.,   2.,\n",
       "         nan,  nan,  nan,  nan,  nan,  nan,   2.,   2.,   2.,   2.,   2.,\n",
       "          2.,   2.,   2.,   2.,   2.,   2.,   2.,   2.,   2.,   1.,   2.,\n",
       "          1.,   2.,  nan,  nan,  nan,  nan,  nan,  nan,  nan,   2.,   2.,\n",
       "         nan,  nan,  nan,  nan,  nan,  nan,  nan,  nan,  nan,   2.,   2.,\n",
       "          1.,   2.,   1.,   2.,   1.,   2.,   2.,   2.,   2.,   2.,   2.,\n",
       "          2.,   1.,   2.,  nan,  nan,  nan,  nan,  nan,  nan,  nan,  nan,\n",
       "         nan,  nan,  nan,  nan,  nan,  nan,  nan,  nan,  nan,   2.,   2.,\n",
       "          0.,   2.,   2.,   2.,   2.,   0.,   2.,   2.,   2.,   2.,   0.,\n",
       "          2.,  nan,  nan,  nan,  nan,  nan,  nan,  nan,  nan,  nan,  nan,\n",
       "         nan,  nan,  nan,  nan,  nan,   2.,   2.,   2.,   1.,   2.,   2.,\n",
       "          2.,   2.,   2.,   2.,   1.,   2.,  nan,  nan,  nan,  nan,  nan,\n",
       "         nan,  nan,  nan,  nan,  nan,  nan,  nan,   2.,   1.,   2.,   2.,\n",
       "         nan]))"
      ]
     },
     "execution_count": 104,
     "metadata": {},
     "output_type": "execute_result"
    }
   ],
   "source": [
    "\n",
    "bugsTargetXY, bugTargetTypes"
   ]
  },
  {
   "cell_type": "code",
   "execution_count": 107,
   "metadata": {
    "collapsed": false,
    "deletable": true,
    "editable": true
   },
   "outputs": [
    {
     "name": "stderr",
     "output_type": "stream",
     "text": [
      "/Users/cbacigalupo/canopy/lib/python2.7/site-packages/ipykernel/__main__.py:3: RuntimeWarning: invalid value encountered in less\n",
      "  app.launch_new_instance()\n"
     ]
    }
   ],
   "source": [
    "BUG_RADIUS = 4250\n",
    "R2d = distance.cdist(bugsTargetXY, bugsTargetXY, 'euclidean')\n",
    "tooCloseList = np.where(R2d<(2 * BUG_RADIUS))\n"
   ]
  },
  {
   "cell_type": "code",
   "execution_count": 108,
   "metadata": {
    "collapsed": false,
    "deletable": true,
    "editable": true
   },
   "outputs": [
    {
     "data": {
      "text/plain": [
       "(array([  2,   3,   4,   5,  16,  17,  18,  19,  20,  21,  22,  23,  24,\n",
       "         25,  26,  27,  43,  44,  45,  46,  47,  48,  49,  50,  51,  52,\n",
       "         53,  54,  55,  56,  74,  75,  76,  77,  77,  78,  78,  79,  80,\n",
       "         81,  82,  83,  84,  85,  86,  87,  88,  89,  99, 100, 109, 110,\n",
       "        110, 111, 111, 112, 112, 113, 114, 115, 116, 117, 117, 118, 119,\n",
       "        120, 121, 122, 123, 124, 125, 134, 135, 136, 137, 146, 147, 147,\n",
       "        148, 149, 150, 151, 152, 153, 154, 155, 155, 156, 157, 158, 159,\n",
       "        160, 161, 162, 163, 170, 171, 172, 173, 174, 175, 182, 183, 184,\n",
       "        185, 186, 187, 188, 189, 190, 191, 192, 193, 194, 195, 195, 196,\n",
       "        196, 197, 198, 199, 207, 208, 218, 219, 220, 220, 221, 222, 223,\n",
       "        224, 225, 226, 227, 228, 229, 230, 231, 232, 233, 251, 252, 253,\n",
       "        254, 255, 256, 257, 258, 259, 260, 261, 262, 263, 264, 280, 280,\n",
       "        281, 282, 283, 284, 285, 286, 286, 287, 288, 289, 290, 291, 304,\n",
       "        305, 305, 306, 307]),\n",
       " array([  2,   3,   4,   5,  16,  17,  18,  19,  20,  21,  22,  23,  24,\n",
       "         25,  26,  27,  43,  44,  45,  46,  47,  48,  49,  50,  51,  52,\n",
       "         53,  54,  55,  56,  74,  75,  76,  77,  78,  77,  78,  79,  80,\n",
       "         81,  82,  83,  84,  85,  86,  87,  88,  89,  99, 100, 109, 110,\n",
       "        147, 111, 112, 111, 112, 113, 114, 115, 116, 117, 155, 118, 119,\n",
       "        120, 121, 122, 123, 124, 125, 134, 135, 136, 137, 146, 110, 147,\n",
       "        148, 149, 150, 151, 152, 153, 154, 117, 155, 156, 157, 158, 159,\n",
       "        160, 161, 162, 163, 170, 171, 172, 173, 174, 175, 182, 183, 184,\n",
       "        185, 186, 187, 188, 189, 190, 191, 192, 193, 194, 195, 196, 195,\n",
       "        196, 197, 198, 199, 207, 208, 218, 219, 220, 280, 221, 222, 223,\n",
       "        224, 225, 226, 227, 228, 229, 230, 231, 232, 233, 251, 252, 253,\n",
       "        254, 255, 256, 257, 258, 259, 260, 261, 262, 263, 264, 220, 280,\n",
       "        281, 282, 283, 284, 285, 286, 305, 287, 288, 289, 290, 291, 304,\n",
       "        286, 305, 306, 307]))"
      ]
     },
     "execution_count": 108,
     "metadata": {},
     "output_type": "execute_result"
    }
   ],
   "source": [
    "tooCloseList"
   ]
  },
  {
   "cell_type": "code",
   "execution_count": 109,
   "metadata": {
    "collapsed": false,
    "deletable": true,
    "editable": true
   },
   "outputs": [
    {
     "data": {
      "text/plain": [
       "array([ 78, 112, 147, 155, 196, 280, 305])"
      ]
     },
     "execution_count": 109,
     "metadata": {},
     "output_type": "execute_result"
    }
   ],
   "source": [
    "np.unique(tooCloseList[0][tooCloseList[0]>tooCloseList[1]])"
   ]
  },
  {
   "cell_type": "code",
   "execution_count": 111,
   "metadata": {
    "collapsed": false,
    "deletable": true,
    "editable": true
   },
   "outputs": [
    {
     "name": "stdout",
     "output_type": "stream",
     "text": [
      "(77, 78)\n",
      "(78, 77)\n",
      "(110, 147)\n",
      "(111, 112)\n",
      "(112, 111)\n",
      "(117, 155)\n",
      "(147, 110)\n",
      "(155, 117)\n",
      "(195, 196)\n",
      "(196, 195)\n",
      "(220, 280)\n",
      "(280, 220)\n",
      "(286, 305)\n",
      "(305, 286)\n"
     ]
    }
   ],
   "source": [
    "for i in zip(tooCloseList[0],tooCloseList[1]):\n",
    "    if i[0]!=i[1]:print i"
   ]
  },
  {
   "cell_type": "code",
   "execution_count": 1,
   "metadata": {
    "collapsed": true,
    "deletable": true,
    "editable": true
   },
   "outputs": [],
   "source": [
    "import pylab as plt"
   ]
  },
  {
   "cell_type": "code",
   "execution_count": 11,
   "metadata": {
    "collapsed": false
   },
   "outputs": [
    {
     "data": {
      "text/plain": [
       "[<matplotlib.lines.Line2D at 0x1064333d0>]"
      ]
     },
     "execution_count": 11,
     "metadata": {},
     "output_type": "execute_result"
    }
   ],
   "source": [
    "plt.plot([   2000.   ,    -2923.30998331     ], [  -106100.     , -131961.19659767])\n",
    "# plt.plot([  -2406.52528493, -122963.98508325],[  -2406.52528493, -122963.98508325])"
   ]
  },
  {
   "cell_type": "code",
   "execution_count": 12,
   "metadata": {
    "collapsed": false
   },
   "outputs": [
    {
     "data": {
      "image/png": "[encoded data removed]",
      "text/plain": [
       "<matplotlib.figure.Figure at 0x1061d8650>"
      ]
     },
     "metadata": {},
     "output_type": "display_data"
    }
   ],
   "source": [
    "plt.show()"
   ]
  },
  {
   "cell_type": "code",
   "execution_count": 15,
   "metadata": {
    "collapsed": false
   },
   "outputs": [],
   "source": [
    "a =([  -2406.52528493, -122963.98508325])\n",
    "b= ([  -2923.30998331, -131961.19659767])"
   ]
  },
  {
   "cell_type": "code",
   "execution_count": 14,
   "metadata": {
    "collapsed": true
   },
   "outputs": [],
   "source": [
    "import numpy as np"
   ]
  },
  {
   "cell_type": "code",
   "execution_count": 16,
   "metadata": {
    "collapsed": false
   },
   "outputs": [
    {
     "data": {
      "text/plain": [
       "254925.70549372723"
      ]
     },
     "execution_count": 16,
     "metadata": {},
     "output_type": "execute_result"
    }
   ],
   "source": [
    "((a[0]-b[0])**2+(a[1]+b[1])**2)**0.5"
   ]
  },
  {
   "cell_type": "code",
   "execution_count": 2,
   "metadata": {
    "collapsed": false
   },
   "outputs": [
    {
     "data": {
      "application/javascript": [
       "/* Put everything inside the global mpl namespace */\n",
       "window.mpl = {};\n",
       "\n",
       "mpl.get_websocket_type = function() {\n",
       "    if (typeof(WebSocket) !== 'undefined') {\n",
       "        return WebSocket;\n",
       "    } else if (typeof(MozWebSocket) !== 'undefined') {\n",
       "        return MozWebSocket;\n",
       "    } else {\n",
       "        alert('Your browser does not have WebSocket support.' +\n",
       "              'Please try Chrome, Safari or Firefox ≥ 6. ' +\n",
       "              'Firefox 4 and 5 are also supported but you ' +\n",
       "              'have to enable WebSockets in about:config.');\n",
       "    };\n",
       "}\n",
       "\n",
       "mpl.figure = function(figure_id, websocket, ondownload, parent_element) {\n",
       "    this.id = figure_id;\n",
       "\n",
       "    this.ws = websocket;\n",
       "\n",
       "    this.supports_binary = (this.ws.binaryType != undefined);\n",
       "\n",
       "    if (!this.supports_binary) {\n",
       "        var warnings = document.getElementById(\"mpl-warnings\");\n",
       "        if (warnings) {\n",
       "            warnings.style.display = 'block';\n",
       "            warnings.textContent = (\n",
       "                \"This browser does not support binary websocket messages. \" +\n",
       "                    \"Performance may be slow.\");\n",
       "        }\n",
       "    }\n",
       "\n",
       "    this.imageObj = new Image();\n",
       "\n",
       "    this.context = undefined;\n",
       "    this.message = undefined;\n",
       "    this.canvas = undefined;\n",
       "    this.rubberband_canvas = undefined;\n",
       "    this.rubberband_context = undefined;\n",
       "    this.format_dropdown = undefined;\n",
       "\n",
       "    this.image_mode = 'full';\n",
       "\n",
       "    this.root = $('<div/>');\n",
       "    this._root_extra_style(this.root)\n",
       "    this.root.attr('style', 'display: inline-block');\n",
       "\n",
       "    $(parent_element).append(this.root);\n",
       "\n",
       "    this._init_header(this);\n",
       "    this._init_canvas(this);\n",
       "    this._init_toolbar(this);\n",
       "\n",
       "    var fig = this;\n",
       "\n",
       "    this.waiting = false;\n",
       "\n",
       "    this.ws.onopen =  function () {\n",
       "            fig.send_message(\"supports_binary\", {value: fig.supports_binary});\n",
       "            fig.send_message(\"send_image_mode\", {});\n",
       "            fig.send_message(\"refresh\", {});\n",
       "        }\n",
       "\n",
       "    this.imageObj.onload = function() {\n",
       "            if (fig.image_mode == 'full') {\n",
       "                // Full images could contain transparency (where diff images\n",
       "                // almost always do), so we need to clear the canvas so that\n",
       "                // there is no ghosting.\n",
       "                fig.context.clearRect(0, 0, fig.canvas.width, fig.canvas.height);\n",
       "            }\n",
       "            fig.context.drawImage(fig.imageObj, 0, 0);\n",
       "        };\n",
       "\n",
       "    this.imageObj.onunload = function() {\n",
       "        this.ws.close();\n",
       "    }\n",
       "\n",
       "    this.ws.onmessage = this._make_on_message_function(this);\n",
       "\n",
       "    this.ondownload = ondownload;\n",
       "}\n",
       "\n",
       "mpl.figure.prototype._init_header = function() {\n",
       "    var titlebar = $(\n",
       "        '<div class=\"ui-dialog-titlebar ui-widget-header ui-corner-all ' +\n",
       "        'ui-helper-clearfix\"/>');\n",
       "    var titletext = $(\n",
       "        '<div class=\"ui-dialog-title\" style=\"width: 100%; ' +\n",
       "        'text-align: center; padding: 3px;\"/>');\n",
       "    titlebar.append(titletext)\n",
       "    this.root.append(titlebar);\n",
       "    this.header = titletext[0];\n",
       "}\n",
       "\n",
       "\n",
       "\n",
       "mpl.figure.prototype._canvas_extra_style = function(canvas_div) {\n",
       "\n",
       "}\n",
       "\n",
       "\n",
       "mpl.figure.prototype._root_extra_style = function(canvas_div) {\n",
       "\n",
       "}\n",
       "\n",
       "mpl.figure.prototype._init_canvas = function() {\n",
       "    var fig = this;\n",
       "\n",
       "    var canvas_div = $('<div/>');\n",
       "\n",
       "    canvas_div.attr('style', 'position: relative; clear: both; outline: 0');\n",
       "\n",
       "    function canvas_keyboard_event(event) {\n",
       "        return fig.key_event(event, event['data']);\n",
       "    }\n",
       "\n",
       "    canvas_div.keydown('key_press', canvas_keyboard_event);\n",
       "    canvas_div.keyup('key_release', canvas_keyboard_event);\n",
       "    this.canvas_div = canvas_div\n",
       "    this._canvas_extra_style(canvas_div)\n",
       "    this.root.append(canvas_div);\n",
       "\n",
       "    var canvas = $('<canvas/>');\n",
       "    canvas.addClass('mpl-canvas');\n",
       "    canvas.attr('style', \"left: 0; top: 0; z-index: 0; outline: 0\")\n",
       "\n",
       "    this.canvas = canvas[0];\n",
       "    this.context = canvas[0].getContext(\"2d\");\n",
       "\n",
       "    var rubberband = $('<canvas/>');\n",
       "    rubberband.attr('style', \"position: absolute; left: 0; top: 0; z-index: 1;\")\n",
       "\n",
       "    var pass_mouse_events = true;\n",
       "\n",
       "    canvas_div.resizable({\n",
       "        start: function(event, ui) {\n",
       "            pass_mouse_events = false;\n",
       "        },\n",
       "        resize: function(event, ui) {\n",
       "            fig.request_resize(ui.size.width, ui.size.height);\n",
       "        },\n",
       "        stop: function(event, ui) {\n",
       "            pass_mouse_events = true;\n",
       "            fig.request_resize(ui.size.width, ui.size.height);\n",
       "        },\n",
       "    });\n",
       "\n",
       "    function mouse_event_fn(event) {\n",
       "        if (pass_mouse_events)\n",
       "            return fig.mouse_event(event, event['data']);\n",
       "    }\n",
       "\n",
       "    rubberband.mousedown('button_press', mouse_event_fn);\n",
       "    rubberband.mouseup('button_release', mouse_event_fn);\n",
       "    // Throttle sequential mouse events to 1 every 20ms.\n",
       "    rubberband.mousemove('motion_notify', mouse_event_fn);\n",
       "\n",
       "    rubberband.mouseenter('figure_enter', mouse_event_fn);\n",
       "    rubberband.mouseleave('figure_leave', mouse_event_fn);\n",
       "\n",
       "    canvas_div.on(\"wheel\", function (event) {\n",
       "        event = event.originalEvent;\n",
       "        event['data'] = 'scroll'\n",
       "        if (event.deltaY < 0) {\n",
       "            event.step = 1;\n",
       "        } else {\n",
       "            event.step = -1;\n",
       "        }\n",
       "        mouse_event_fn(event);\n",
       "    });\n",
       "\n",
       "    canvas_div.append(canvas);\n",
       "    canvas_div.append(rubberband);\n",
       "\n",
       "    this.rubberband = rubberband;\n",
       "    this.rubberband_canvas = rubberband[0];\n",
       "    this.rubberband_context = rubberband[0].getContext(\"2d\");\n",
       "    this.rubberband_context.strokeStyle = \"#000000\";\n",
       "\n",
       "    this._resize_canvas = function(width, height) {\n",
       "        // Keep the size of the canvas, canvas container, and rubber band\n",
       "        // canvas in synch.\n",
       "        canvas_div.css('width', width)\n",
       "        canvas_div.css('height', height)\n",
       "\n",
       "        canvas.attr('width', width);\n",
       "        canvas.attr('height', height);\n",
       "\n",
       "        rubberband.attr('width', width);\n",
       "        rubberband.attr('height', height);\n",
       "    }\n",
       "\n",
       "    // Set the figure to an initial 600x600px, this will subsequently be updated\n",
       "    // upon first draw.\n",
       "    this._resize_canvas(600, 600);\n",
       "\n",
       "    // Disable right mouse context menu.\n",
       "    $(this.rubberband_canvas).bind(\"contextmenu\",function(e){\n",
       "        return false;\n",
       "    });\n",
       "\n",
       "    function set_focus () {\n",
       "        canvas.focus();\n",
       "        canvas_div.focus();\n",
       "    }\n",
       "\n",
       "    window.setTimeout(set_focus, 100);\n",
       "}\n",
       "\n",
       "mpl.figure.prototype._init_toolbar = function() {\n",
       "    var fig = this;\n",
       "\n",
       "    var nav_element = $('<div/>')\n",
       "    nav_element.attr('style', 'width: 100%');\n",
       "    this.root.append(nav_element);\n",
       "\n",
       "    // Define a callback function for later on.\n",
       "    function toolbar_event(event) {\n",
       "        return fig.toolbar_button_onclick(event['data']);\n",
       "    }\n",
       "    function toolbar_mouse_event(event) {\n",
       "        return fig.toolbar_button_onmouseover(event['data']);\n",
       "    }\n",
       "\n",
       "    for(var toolbar_ind in mpl.toolbar_items) {\n",
       "        var name = mpl.toolbar_items[toolbar_ind][0];\n",
       "        var tooltip = mpl.toolbar_items[toolbar_ind][1];\n",
       "        var image = mpl.toolbar_items[toolbar_ind][2];\n",
       "        var method_name = mpl.toolbar_items[toolbar_ind][3];\n",
       "\n",
       "        if (!name) {\n",
       "            // put a spacer in here.\n",
       "            continue;\n",
       "        }\n",
       "        var button = $('<button/>');\n",
       "        button.addClass('ui-button ui-widget ui-state-default ui-corner-all ' +\n",
       "                        'ui-button-icon-only');\n",
       "        button.attr('role', 'button');\n",
       "        button.attr('aria-disabled', 'false');\n",
       "        button.click(method_name, toolbar_event);\n",
       "        button.mouseover(tooltip, toolbar_mouse_event);\n",
       "\n",
       "        var icon_img = $('<span/>');\n",
       "        icon_img.addClass('ui-button-icon-primary ui-icon');\n",
       "        icon_img.addClass(image);\n",
       "        icon_img.addClass('ui-corner-all');\n",
       "\n",
       "        var tooltip_span = $('<span/>');\n",
       "        tooltip_span.addClass('ui-button-text');\n",
       "        tooltip_span.html(tooltip);\n",
       "\n",
       "        button.append(icon_img);\n",
       "        button.append(tooltip_span);\n",
       "\n",
       "        nav_element.append(button);\n",
       "    }\n",
       "\n",
       "    var fmt_picker_span = $('<span/>');\n",
       "\n",
       "    var fmt_picker = $('<select/>');\n",
       "    fmt_picker.addClass('mpl-toolbar-option ui-widget ui-widget-content');\n",
       "    fmt_picker_span.append(fmt_picker);\n",
       "    nav_element.append(fmt_picker_span);\n",
       "    this.format_dropdown = fmt_picker[0];\n",
       "\n",
       "    for (var ind in mpl.extensions) {\n",
       "        var fmt = mpl.extensions[ind];\n",
       "        var option = $(\n",
       "            '<option/>', {selected: fmt === mpl.default_extension}).html(fmt);\n",
       "        fmt_picker.append(option)\n",
       "    }\n",
       "\n",
       "    // Add hover states to the ui-buttons\n",
       "    $( \".ui-button\" ).hover(\n",
       "        function() { $(this).addClass(\"ui-state-hover\");},\n",
       "        function() { $(this).removeClass(\"ui-state-hover\");}\n",
       "    );\n",
       "\n",
       "    var status_bar = $('<span class=\"mpl-message\"/>');\n",
       "    nav_element.append(status_bar);\n",
       "    this.message = status_bar[0];\n",
       "}\n",
       "\n",
       "mpl.figure.prototype.request_resize = function(x_pixels, y_pixels) {\n",
       "    // Request matplotlib to resize the figure. Matplotlib will then trigger a resize in the client,\n",
       "    // which will in turn request a refresh of the image.\n",
       "    this.send_message('resize', {'width': x_pixels, 'height': y_pixels});\n",
       "}\n",
       "\n",
       "mpl.figure.prototype.send_message = function(type, properties) {\n",
       "    properties['type'] = type;\n",
       "    properties['figure_id'] = this.id;\n",
       "    this.ws.send(JSON.stringify(properties));\n",
       "}\n",
       "\n",
       "mpl.figure.prototype.send_draw_message = function() {\n",
       "    if (!this.waiting) {\n",
       "        this.waiting = true;\n",
       "        this.ws.send(JSON.stringify({type: \"draw\", figure_id: this.id}));\n",
       "    }\n",
       "}\n",
       "\n",
       "\n",
       "mpl.figure.prototype.handle_save = function(fig, msg) {\n",
       "    var format_dropdown = fig.format_dropdown;\n",
       "    var format = format_dropdown.options[format_dropdown.selectedIndex].value;\n",
       "    fig.ondownload(fig, format);\n",
       "}\n",
       "\n",
       "\n",
       "mpl.figure.prototype.handle_resize = function(fig, msg) {\n",
       "    var size = msg['size'];\n",
       "    if (size[0] != fig.canvas.width || size[1] != fig.canvas.height) {\n",
       "        fig._resize_canvas(size[0], size[1]);\n",
       "        fig.send_message(\"refresh\", {});\n",
       "    };\n",
       "}\n",
       "\n",
       "mpl.figure.prototype.handle_rubberband = function(fig, msg) {\n",
       "    var x0 = msg['x0'];\n",
       "    var y0 = fig.canvas.height - msg['y0'];\n",
       "    var x1 = msg['x1'];\n",
       "    var y1 = fig.canvas.height - msg['y1'];\n",
       "    x0 = Math.floor(x0) + 0.5;\n",
       "    y0 = Math.floor(y0) + 0.5;\n",
       "    x1 = Math.floor(x1) + 0.5;\n",
       "    y1 = Math.floor(y1) + 0.5;\n",
       "    var min_x = Math.min(x0, x1);\n",
       "    var min_y = Math.min(y0, y1);\n",
       "    var width = Math.abs(x1 - x0);\n",
       "    var height = Math.abs(y1 - y0);\n",
       "\n",
       "    fig.rubberband_context.clearRect(\n",
       "        0, 0, fig.canvas.width, fig.canvas.height);\n",
       "\n",
       "    fig.rubberband_context.strokeRect(min_x, min_y, width, height);\n",
       "}\n",
       "\n",
       "mpl.figure.prototype.handle_figure_label = function(fig, msg) {\n",
       "    // Updates the figure title.\n",
       "    fig.header.textContent = msg['label'];\n",
       "}\n",
       "\n",
       "mpl.figure.prototype.handle_cursor = function(fig, msg) {\n",
       "    var cursor = msg['cursor'];\n",
       "    switch(cursor)\n",
       "    {\n",
       "    case 0:\n",
       "        cursor = 'pointer';\n",
       "        break;\n",
       "    case 1:\n",
       "        cursor = 'default';\n",
       "        break;\n",
       "    case 2:\n",
       "        cursor = 'crosshair';\n",
       "        break;\n",
       "    case 3:\n",
       "        cursor = 'move';\n",
       "        break;\n",
       "    }\n",
       "    fig.rubberband_canvas.style.cursor = cursor;\n",
       "}\n",
       "\n",
       "mpl.figure.prototype.handle_message = function(fig, msg) {\n",
       "    fig.message.textContent = msg['message'];\n",
       "}\n",
       "\n",
       "mpl.figure.prototype.handle_draw = function(fig, msg) {\n",
       "    // Request the server to send over a new figure.\n",
       "    fig.send_draw_message();\n",
       "}\n",
       "\n",
       "mpl.figure.prototype.handle_image_mode = function(fig, msg) {\n",
       "    fig.image_mode = msg['mode'];\n",
       "}\n",
       "\n",
       "mpl.figure.prototype.updated_canvas_event = function() {\n",
       "    // Called whenever the canvas gets updated.\n",
       "    this.send_message(\"ack\", {});\n",
       "}\n",
       "\n",
       "// A function to construct a web socket function for onmessage handling.\n",
       "// Called in the figure constructor.\n",
       "mpl.figure.prototype._make_on_message_function = function(fig) {\n",
       "    return function socket_on_message(evt) {\n",
       "        if (evt.data instanceof Blob) {\n",
       "            /* FIXME: We get \"Resource interpreted as Image but\n",
       "             * transferred with MIME type text/plain:\" errors on\n",
       "             * Chrome.  But how to set the MIME type?  It doesn't seem\n",
       "             * to be part of the websocket stream */\n",
       "            evt.data.type = \"image/png\";\n",
       "\n",
       "            /* Free the memory for the previous frames */\n",
       "            if (fig.imageObj.src) {\n",
       "                (window.URL || window.webkitURL).revokeObjectURL(\n",
       "                    fig.imageObj.src);\n",
       "            }\n",
       "\n",
       "            fig.imageObj.src = (window.URL || window.webkitURL).createObjectURL(\n",
       "                evt.data);\n",
       "            fig.updated_canvas_event();\n",
       "            fig.waiting = false;\n",
       "            return;\n",
       "        }\n",
       "        else if (typeof evt.data === 'string' && evt.data.slice(0, 21) == \"data:image/png;base64\") {\n",
       "            fig.imageObj.src = evt.data;\n",
       "            fig.updated_canvas_event();\n",
       "            fig.waiting = false;\n",
       "            return;\n",
       "        }\n",
       "\n",
       "        var msg = JSON.parse(evt.data);\n",
       "        var msg_type = msg['type'];\n",
       "\n",
       "        // Call the  \"handle_{type}\" callback, which takes\n",
       "        // the figure and JSON message as its only arguments.\n",
       "        try {\n",
       "            var callback = fig[\"handle_\" + msg_type];\n",
       "        } catch (e) {\n",
       "            console.log(\"No handler for the '\" + msg_type + \"' message type: \", msg);\n",
       "            return;\n",
       "        }\n",
       "\n",
       "        if (callback) {\n",
       "            try {\n",
       "                // console.log(\"Handling '\" + msg_type + \"' message: \", msg);\n",
       "                callback(fig, msg);\n",
       "            } catch (e) {\n",
       "                console.log(\"Exception inside the 'handler_\" + msg_type + \"' callback:\", e, e.stack, msg);\n",
       "            }\n",
       "        }\n",
       "    };\n",
       "}\n",
       "\n",
       "// from http://stackoverflow.com/questions/1114465/getting-mouse-location-in-canvas\n",
       "mpl.findpos = function(e) {\n",
       "    //this section is from http://www.quirksmode.org/js/events_properties.html\n",
       "    var targ;\n",
       "    if (!e)\n",
       "        e = window.event;\n",
       "    if (e.target)\n",
       "        targ = e.target;\n",
       "    else if (e.srcElement)\n",
       "        targ = e.srcElement;\n",
       "    if (targ.nodeType == 3) // defeat Safari bug\n",
       "        targ = targ.parentNode;\n",
       "\n",
       "    // jQuery normalizes the pageX and pageY\n",
       "    // pageX,Y are the mouse positions relative to the document\n",
       "    // offset() returns the position of the element relative to the document\n",
       "    var x = e.pageX - $(targ).offset().left;\n",
       "    var y = e.pageY - $(targ).offset().top;\n",
       "\n",
       "    return {\"x\": x, \"y\": y};\n",
       "};\n",
       "\n",
       "/*\n",
       " * return a copy of an object with only non-object keys\n",
       " * we need this to avoid circular references\n",
       " * http://stackoverflow.com/a/24161582/3208463\n",
       " */\n",
       "function simpleKeys (original) {\n",
       "  return Object.keys(original).reduce(function (obj, key) {\n",
       "    if (typeof original[key] !== 'object')\n",
       "        obj[key] = original[key]\n",
       "    return obj;\n",
       "  }, {});\n",
       "}\n",
       "\n",
       "mpl.figure.prototype.mouse_event = function(event, name) {\n",
       "    var canvas_pos = mpl.findpos(event)\n",
       "\n",
       "    if (name === 'button_press')\n",
       "    {\n",
       "        this.canvas.focus();\n",
       "        this.canvas_div.focus();\n",
       "    }\n",
       "\n",
       "    var x = canvas_pos.x;\n",
       "    var y = canvas_pos.y;\n",
       "\n",
       "    this.send_message(name, {x: x, y: y, button: event.button,\n",
       "                             step: event.step,\n",
       "                             guiEvent: simpleKeys(event)});\n",
       "\n",
       "    /* This prevents the web browser from automatically changing to\n",
       "     * the text insertion cursor when the button is pressed.  We want\n",
       "     * to control all of the cursor setting manually through the\n",
       "     * 'cursor' event from matplotlib */\n",
       "    event.preventDefault();\n",
       "    return false;\n",
       "}\n",
       "\n",
       "mpl.figure.prototype._key_event_extra = function(event, name) {\n",
       "    // Handle any extra behaviour associated with a key event\n",
       "}\n",
       "\n",
       "mpl.figure.prototype.key_event = function(event, name) {\n",
       "\n",
       "    // Prevent repeat events\n",
       "    if (name == 'key_press')\n",
       "    {\n",
       "        if (event.which === this._key)\n",
       "            return;\n",
       "        else\n",
       "            this._key = event.which;\n",
       "    }\n",
       "    if (name == 'key_release')\n",
       "        this._key = null;\n",
       "\n",
       "    var value = '';\n",
       "    if (event.ctrlKey && event.which != 17)\n",
       "        value += \"ctrl+\";\n",
       "    if (event.altKey && event.which != 18)\n",
       "        value += \"alt+\";\n",
       "    if (event.shiftKey && event.which != 16)\n",
       "        value += \"shift+\";\n",
       "\n",
       "    value += 'k';\n",
       "    value += event.which.toString();\n",
       "\n",
       "    this._key_event_extra(event, name);\n",
       "\n",
       "    this.send_message(name, {key: value,\n",
       "                             guiEvent: simpleKeys(event)});\n",
       "    return false;\n",
       "}\n",
       "\n",
       "mpl.figure.prototype.toolbar_button_onclick = function(name) {\n",
       "    if (name == 'download') {\n",
       "        this.handle_save(this, null);\n",
       "    } else {\n",
       "        this.send_message(\"toolbar_button\", {name: name});\n",
       "    }\n",
       "};\n",
       "\n",
       "mpl.figure.prototype.toolbar_button_onmouseover = function(tooltip) {\n",
       "    this.message.textContent = tooltip;\n",
       "};\n",
       "mpl.toolbar_items = [[\"Home\", \"Reset original view\", \"fa fa-home icon-home\", \"home\"], [\"Back\", \"Back to  previous view\", \"fa fa-arrow-left icon-arrow-left\", \"back\"], [\"Forward\", \"Forward to next view\", \"fa fa-arrow-right icon-arrow-right\", \"forward\"], [\"\", \"\", \"\", \"\"], [\"Pan\", \"Pan axes with left mouse, zoom with right\", \"fa fa-arrows icon-move\", \"pan\"], [\"Zoom\", \"Zoom to rectangle\", \"fa fa-square-o icon-check-empty\", \"zoom\"], [\"\", \"\", \"\", \"\"], [\"Download\", \"Download plot\", \"fa fa-floppy-o icon-save\", \"download\"]];\n",
       "\n",
       "mpl.extensions = [\"eps\", \"jpeg\", \"pdf\", \"png\", \"ps\", \"raw\", \"svg\", \"tif\"];\n",
       "\n",
       "mpl.default_extension = \"png\";var comm_websocket_adapter = function(comm) {\n",
       "    // Create a \"websocket\"-like object which calls the given IPython comm\n",
       "    // object with the appropriate methods. Currently this is a non binary\n",
       "    // socket, so there is still some room for performance tuning.\n",
       "    var ws = {};\n",
       "\n",
       "    ws.close = function() {\n",
       "        comm.close()\n",
       "    };\n",
       "    ws.send = function(m) {\n",
       "        //console.log('sending', m);\n",
       "        comm.send(m);\n",
       "    };\n",
       "    // Register the callback with on_msg.\n",
       "    comm.on_msg(function(msg) {\n",
       "        //console.log('receiving', msg['content']['data'], msg);\n",
       "        // Pass the mpl event to the overriden (by mpl) onmessage function.\n",
       "        ws.onmessage(msg['content']['data'])\n",
       "    });\n",
       "    return ws;\n",
       "}\n",
       "\n",
       "mpl.mpl_figure_comm = function(comm, msg) {\n",
       "    // This is the function which gets called when the mpl process\n",
       "    // starts-up an IPython Comm through the \"matplotlib\" channel.\n",
       "\n",
       "    var id = msg.content.data.id;\n",
       "    // Get hold of the div created by the display call when the Comm\n",
       "    // socket was opened in Python.\n",
       "    var element = $(\"#\" + id);\n",
       "    var ws_proxy = comm_websocket_adapter(comm)\n",
       "\n",
       "    function ondownload(figure, format) {\n",
       "        window.open(figure.imageObj.src);\n",
       "    }\n",
       "\n",
       "    var fig = new mpl.figure(id, ws_proxy,\n",
       "                           ondownload,\n",
       "                           element.get(0));\n",
       "\n",
       "    // Call onopen now - mpl needs it, as it is assuming we've passed it a real\n",
       "    // web socket which is closed, not our websocket->open comm proxy.\n",
       "    ws_proxy.onopen();\n",
       "\n",
       "    fig.parent_element = element.get(0);\n",
       "    fig.cell_info = mpl.find_output_cell(\"<div id='\" + id + \"'></div>\");\n",
       "    if (!fig.cell_info) {\n",
       "        console.error(\"Failed to find cell for figure\", id, fig);\n",
       "        return;\n",
       "    }\n",
       "\n",
       "    var output_index = fig.cell_info[2]\n",
       "    var cell = fig.cell_info[0];\n",
       "\n",
       "};\n",
       "\n",
       "mpl.figure.prototype.handle_close = function(fig, msg) {\n",
       "    fig.root.unbind('remove')\n",
       "\n",
       "    // Update the output cell to use the data from the current canvas.\n",
       "    fig.push_to_output();\n",
       "    var dataURL = fig.canvas.toDataURL();\n",
       "    // Re-enable the keyboard manager in IPython - without this line, in FF,\n",
       "    // the notebook keyboard shortcuts fail.\n",
       "    IPython.keyboard_manager.enable()\n",
       "    $(fig.parent_element).html('<img src=\"' + dataURL + '\">');\n",
       "    fig.close_ws(fig, msg);\n",
       "}\n",
       "\n",
       "mpl.figure.prototype.close_ws = function(fig, msg){\n",
       "    fig.send_message('closing', msg);\n",
       "    // fig.ws.close()\n",
       "}\n",
       "\n",
       "mpl.figure.prototype.push_to_output = function(remove_interactive) {\n",
       "    // Turn the data on the canvas into data in the output cell.\n",
       "    var dataURL = this.canvas.toDataURL();\n",
       "    this.cell_info[1]['text/html'] = '<img src=\"' + dataURL + '\">';\n",
       "}\n",
       "\n",
       "mpl.figure.prototype.updated_canvas_event = function() {\n",
       "    // Tell IPython that the notebook contents must change.\n",
       "    IPython.notebook.set_dirty(true);\n",
       "    this.send_message(\"ack\", {});\n",
       "    var fig = this;\n",
       "    // Wait a second, then push the new image to the DOM so\n",
       "    // that it is saved nicely (might be nice to debounce this).\n",
       "    setTimeout(function () { fig.push_to_output() }, 1000);\n",
       "}\n",
       "\n",
       "mpl.figure.prototype._init_toolbar = function() {\n",
       "    var fig = this;\n",
       "\n",
       "    var nav_element = $('<div/>')\n",
       "    nav_element.attr('style', 'width: 100%');\n",
       "    this.root.append(nav_element);\n",
       "\n",
       "    // Define a callback function for later on.\n",
       "    function toolbar_event(event) {\n",
       "        return fig.toolbar_button_onclick(event['data']);\n",
       "    }\n",
       "    function toolbar_mouse_event(event) {\n",
       "        return fig.toolbar_button_onmouseover(event['data']);\n",
       "    }\n",
       "\n",
       "    for(var toolbar_ind in mpl.toolbar_items){\n",
       "        var name = mpl.toolbar_items[toolbar_ind][0];\n",
       "        var tooltip = mpl.toolbar_items[toolbar_ind][1];\n",
       "        var image = mpl.toolbar_items[toolbar_ind][2];\n",
       "        var method_name = mpl.toolbar_items[toolbar_ind][3];\n",
       "\n",
       "        if (!name) { continue; };\n",
       "\n",
       "        var button = $('<button class=\"btn btn-default\" href=\"#\" title=\"' + name + '\"><i class=\"fa ' + image + ' fa-lg\"></i></button>');\n",
       "        button.click(method_name, toolbar_event);\n",
       "        button.mouseover(tooltip, toolbar_mouse_event);\n",
       "        nav_element.append(button);\n",
       "    }\n",
       "\n",
       "    // Add the status bar.\n",
       "    var status_bar = $('<span class=\"mpl-message\" style=\"text-align:right; float: right;\"/>');\n",
       "    nav_element.append(status_bar);\n",
       "    this.message = status_bar[0];\n",
       "\n",
       "    // Add the close button to the window.\n",
       "    var buttongrp = $('<div class=\"btn-group inline pull-right\"></div>');\n",
       "    var button = $('<button class=\"btn btn-mini btn-primary\" href=\"#\" title=\"Stop Interaction\"><i class=\"fa fa-power-off icon-remove icon-large\"></i></button>');\n",
       "    button.click(function (evt) { fig.handle_close(fig, {}); } );\n",
       "    button.mouseover('Stop Interaction', toolbar_mouse_event);\n",
       "    buttongrp.append(button);\n",
       "    var titlebar = this.root.find($('.ui-dialog-titlebar'));\n",
       "    titlebar.prepend(buttongrp);\n",
       "}\n",
       "\n",
       "mpl.figure.prototype._root_extra_style = function(el){\n",
       "    var fig = this\n",
       "    el.on(\"remove\", function(){\n",
       "\tfig.close_ws(fig, {});\n",
       "    });\n",
       "}\n",
       "\n",
       "mpl.figure.prototype._canvas_extra_style = function(el){\n",
       "    // this is important to make the div 'focusable\n",
       "    el.attr('tabindex', 0)\n",
       "    // reach out to IPython and tell the keyboard manager to turn it's self\n",
       "    // off when our div gets focus\n",
       "\n",
       "    // location in version 3\n",
       "    if (IPython.notebook.keyboard_manager) {\n",
       "        IPython.notebook.keyboard_manager.register_events(el);\n",
       "    }\n",
       "    else {\n",
       "        // location in version 2\n",
       "        IPython.keyboard_manager.register_events(el);\n",
       "    }\n",
       "\n",
       "}\n",
       "\n",
       "mpl.figure.prototype._key_event_extra = function(event, name) {\n",
       "    var manager = IPython.notebook.keyboard_manager;\n",
       "    if (!manager)\n",
       "        manager = IPython.keyboard_manager;\n",
       "\n",
       "    // Check for shift+enter\n",
       "    if (event.shiftKey && event.which == 13) {\n",
       "        this.canvas_div.blur();\n",
       "        event.shiftKey = false;\n",
       "        // Send a \"J\" for go to next cell\n",
       "        event.which = 74;\n",
       "        event.keyCode = 74;\n",
       "        manager.command_mode();\n",
       "        manager.handle_keydown(event);\n",
       "    }\n",
       "}\n",
       "\n",
       "mpl.figure.prototype.handle_save = function(fig, msg) {\n",
       "    fig.ondownload(fig, null);\n",
       "}\n",
       "\n",
       "\n",
       "mpl.find_output_cell = function(html_output) {\n",
       "    // Return the cell and output element which can be found *uniquely* in the notebook.\n",
       "    // Note - this is a bit hacky, but it is done because the \"notebook_saving.Notebook\"\n",
       "    // IPython event is triggered only after the cells have been serialised, which for\n",
       "    // our purposes (turning an active figure into a static one), is too late.\n",
       "    var cells = IPython.notebook.get_cells();\n",
       "    var ncells = cells.length;\n",
       "    for (var i=0; i<ncells; i++) {\n",
       "        var cell = cells[i];\n",
       "        if (cell.cell_type === 'code'){\n",
       "            for (var j=0; j<cell.output_area.outputs.length; j++) {\n",
       "                var data = cell.output_area.outputs[j];\n",
       "                if (data.data) {\n",
       "                    // IPython >= 3 moved mimebundle to data attribute of output\n",
       "                    data = data.data;\n",
       "                }\n",
       "                if (data['text/html'] == html_output) {\n",
       "                    return [cell, data, j];\n",
       "                }\n",
       "            }\n",
       "        }\n",
       "    }\n",
       "}\n",
       "\n",
       "// Register the function which deals with the matplotlib target/channel.\n",
       "// The kernel may be null if the page has been refreshed.\n",
       "if (IPython.notebook.kernel != null) {\n",
       "    IPython.notebook.kernel.comm_manager.register_target('matplotlib', mpl.mpl_figure_comm);\n",
       "}\n"
      ],
      "text/plain": [
       "<IPython.core.display.Javascript object>"
      ]
     },
     "metadata": {},
     "output_type": "display_data"
    },
    {
     "data": {
      "text/html": [
       "<img src=\"data:image/png;base64,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\">"
      ],
      "text/plain": [
       "<IPython.core.display.HTML object>"
      ]
     },
     "metadata": {},
     "output_type": "display_data"
    }
   ],
   "source": [
    "import matplotlib.pyplot as plt\n",
    "import numpy as np\n",
    "import pickle\n",
    "\n",
    "%matplotlib notebook\n",
    "fig = plt.figure()\n",
    "ax = plt.subplot(111)\n",
    "x = np.linspace(0, 10)\n",
    "y = np.exp(x)\n",
    "plt.plot(x, y)\n",
    "with open('myplot.pkl','wb') as fid:\n",
    "    pickle.dump(ax, fid)"
   ]
  },
  {
   "cell_type": "code",
   "execution_count": 2,
   "metadata": {
    "collapsed": false
   },
   "outputs": [
    {
     "ename": "AttributeError",
     "evalue": "'module' object has no attribute 'new_figure_manager_given_figure'",
     "output_type": "error",
     "traceback": [
      "\u001b[0;31m---------------------------------------------------------------------------\u001b[0m",
      "\u001b[0;31mAttributeError\u001b[0m                            Traceback (most recent call last)",
      "\u001b[0;32m<ipython-input-2-928db7017baa>\u001b[0m in \u001b[0;36m<module>\u001b[0;34m()\u001b[0m\n\u001b[1;32m      1\u001b[0m \u001b[0;32mimport\u001b[0m \u001b[0mpickle\u001b[0m\u001b[0;34m\u001b[0m\u001b[0m\n\u001b[1;32m      2\u001b[0m \u001b[0;32mimport\u001b[0m \u001b[0mmatplotlib\u001b[0m\u001b[0;34m.\u001b[0m\u001b[0mpyplot\u001b[0m \u001b[0;32mas\u001b[0m \u001b[0mplt\u001b[0m\u001b[0;34m\u001b[0m\u001b[0m\n\u001b[0;32m----> 3\u001b[0;31m \u001b[0max\u001b[0m \u001b[0;34m=\u001b[0m \u001b[0mpickle\u001b[0m\u001b[0;34m.\u001b[0m\u001b[0mload\u001b[0m\u001b[0;34m(\u001b[0m\u001b[0mopen\u001b[0m\u001b[0;34m(\u001b[0m\u001b[0;34m\"myplot.pkl\"\u001b[0m\u001b[0;34m,\u001b[0m \u001b[0;34m\"rb\"\u001b[0m\u001b[0;34m)\u001b[0m\u001b[0;34m)\u001b[0m\u001b[0;34m\u001b[0m\u001b[0m\n\u001b[0m\u001b[1;32m      4\u001b[0m \u001b[0mplt\u001b[0m\u001b[0;34m.\u001b[0m\u001b[0mshow\u001b[0m\u001b[0;34m(\u001b[0m\u001b[0;34m)\u001b[0m\u001b[0;34m\u001b[0m\u001b[0m\n",
      "\u001b[0;32m/Applications/Canopy.app/appdata/canopy-1.7.2.3327.macosx-x86_64/Canopy.app/Contents/lib/python2.7/pickle.pyc\u001b[0m in \u001b[0;36mload\u001b[0;34m(file)\u001b[0m\n\u001b[1;32m   1382\u001b[0m \u001b[0;34m\u001b[0m\u001b[0m\n\u001b[1;32m   1383\u001b[0m \u001b[0;32mdef\u001b[0m \u001b[0mload\u001b[0m\u001b[0;34m(\u001b[0m\u001b[0mfile\u001b[0m\u001b[0;34m)\u001b[0m\u001b[0;34m:\u001b[0m\u001b[0;34m\u001b[0m\u001b[0m\n\u001b[0;32m-> 1384\u001b[0;31m     \u001b[0;32mreturn\u001b[0m \u001b[0mUnpickler\u001b[0m\u001b[0;34m(\u001b[0m\u001b[0mfile\u001b[0m\u001b[0;34m)\u001b[0m\u001b[0;34m.\u001b[0m\u001b[0mload\u001b[0m\u001b[0;34m(\u001b[0m\u001b[0;34m)\u001b[0m\u001b[0;34m\u001b[0m\u001b[0m\n\u001b[0m\u001b[1;32m   1385\u001b[0m \u001b[0;34m\u001b[0m\u001b[0m\n\u001b[1;32m   1386\u001b[0m \u001b[0;32mdef\u001b[0m \u001b[0mloads\u001b[0m\u001b[0;34m(\u001b[0m\u001b[0mstr\u001b[0m\u001b[0;34m)\u001b[0m\u001b[0;34m:\u001b[0m\u001b[0;34m\u001b[0m\u001b[0m\n",
      "\u001b[0;32m/Applications/Canopy.app/appdata/canopy-1.7.2.3327.macosx-x86_64/Canopy.app/Contents/lib/python2.7/pickle.pyc\u001b[0m in \u001b[0;36mload\u001b[0;34m(self)\u001b[0m\n\u001b[1;32m    862\u001b[0m             \u001b[0;32mwhile\u001b[0m \u001b[0;36m1\u001b[0m\u001b[0;34m:\u001b[0m\u001b[0;34m\u001b[0m\u001b[0m\n\u001b[1;32m    863\u001b[0m                 \u001b[0mkey\u001b[0m \u001b[0;34m=\u001b[0m \u001b[0mread\u001b[0m\u001b[0;34m(\u001b[0m\u001b[0;36m1\u001b[0m\u001b[0;34m)\u001b[0m\u001b[0;34m\u001b[0m\u001b[0m\n\u001b[0;32m--> 864\u001b[0;31m                 \u001b[0mdispatch\u001b[0m\u001b[0;34m[\u001b[0m\u001b[0mkey\u001b[0m\u001b[0;34m]\u001b[0m\u001b[0;34m(\u001b[0m\u001b[0mself\u001b[0m\u001b[0;34m)\u001b[0m\u001b[0;34m\u001b[0m\u001b[0m\n\u001b[0m\u001b[1;32m    865\u001b[0m         \u001b[0;32mexcept\u001b[0m \u001b[0m_Stop\u001b[0m\u001b[0;34m,\u001b[0m \u001b[0mstopinst\u001b[0m\u001b[0;34m:\u001b[0m\u001b[0;34m\u001b[0m\u001b[0m\n\u001b[1;32m    866\u001b[0m             \u001b[0;32mreturn\u001b[0m \u001b[0mstopinst\u001b[0m\u001b[0;34m.\u001b[0m\u001b[0mvalue\u001b[0m\u001b[0;34m\u001b[0m\u001b[0m\n",
      "\u001b[0;32m/Applications/Canopy.app/appdata/canopy-1.7.2.3327.macosx-x86_64/Canopy.app/Contents/lib/python2.7/pickle.pyc\u001b[0m in \u001b[0;36mload_build\u001b[0;34m(self)\u001b[0m\n\u001b[1;32m   1221\u001b[0m         \u001b[0msetstate\u001b[0m \u001b[0;34m=\u001b[0m \u001b[0mgetattr\u001b[0m\u001b[0;34m(\u001b[0m\u001b[0minst\u001b[0m\u001b[0;34m,\u001b[0m \u001b[0;34m\"__setstate__\"\u001b[0m\u001b[0;34m,\u001b[0m \u001b[0mNone\u001b[0m\u001b[0;34m)\u001b[0m\u001b[0;34m\u001b[0m\u001b[0m\n\u001b[1;32m   1222\u001b[0m         \u001b[0;32mif\u001b[0m \u001b[0msetstate\u001b[0m\u001b[0;34m:\u001b[0m\u001b[0;34m\u001b[0m\u001b[0m\n\u001b[0;32m-> 1223\u001b[0;31m             \u001b[0msetstate\u001b[0m\u001b[0;34m(\u001b[0m\u001b[0mstate\u001b[0m\u001b[0;34m)\u001b[0m\u001b[0;34m\u001b[0m\u001b[0m\n\u001b[0m\u001b[1;32m   1224\u001b[0m             \u001b[0;32mreturn\u001b[0m\u001b[0;34m\u001b[0m\u001b[0m\n\u001b[1;32m   1225\u001b[0m         \u001b[0mslotstate\u001b[0m \u001b[0;34m=\u001b[0m \u001b[0mNone\u001b[0m\u001b[0;34m\u001b[0m\u001b[0m\n",
      "\u001b[0;32m/Users/cbacigalupo/canopy/lib/python2.7/site-packages/matplotlib/figure.pyc\u001b[0m in \u001b[0;36m__setstate__\u001b[0;34m(self, state)\u001b[0m\n\u001b[1;32m   1434\u001b[0m             \u001b[0mallnums\u001b[0m \u001b[0;34m=\u001b[0m \u001b[0mplt\u001b[0m\u001b[0;34m.\u001b[0m\u001b[0mget_fignums\u001b[0m\u001b[0;34m(\u001b[0m\u001b[0;34m)\u001b[0m\u001b[0;34m\u001b[0m\u001b[0m\n\u001b[1;32m   1435\u001b[0m             \u001b[0mnum\u001b[0m \u001b[0;34m=\u001b[0m \u001b[0mmax\u001b[0m\u001b[0;34m(\u001b[0m\u001b[0mallnums\u001b[0m\u001b[0;34m)\u001b[0m \u001b[0;34m+\u001b[0m \u001b[0;36m1\u001b[0m \u001b[0;32mif\u001b[0m \u001b[0mallnums\u001b[0m \u001b[0;32melse\u001b[0m \u001b[0;36m1\u001b[0m\u001b[0;34m\u001b[0m\u001b[0m\n\u001b[0;32m-> 1436\u001b[0;31m             \u001b[0mmgr\u001b[0m \u001b[0;34m=\u001b[0m \u001b[0mplt\u001b[0m\u001b[0;34m.\u001b[0m\u001b[0m_backend_mod\u001b[0m\u001b[0;34m.\u001b[0m\u001b[0mnew_figure_manager_given_figure\u001b[0m\u001b[0;34m(\u001b[0m\u001b[0mnum\u001b[0m\u001b[0;34m,\u001b[0m \u001b[0mself\u001b[0m\u001b[0;34m)\u001b[0m\u001b[0;34m\u001b[0m\u001b[0m\n\u001b[0m\u001b[1;32m   1437\u001b[0m \u001b[0;34m\u001b[0m\u001b[0m\n\u001b[1;32m   1438\u001b[0m             \u001b[0;31m# XXX The following is a copy and paste from pyplot. Consider\u001b[0m\u001b[0;34m\u001b[0m\u001b[0;34m\u001b[0m\u001b[0m\n",
      "\u001b[0;31mAttributeError\u001b[0m: 'module' object has no attribute 'new_figure_manager_given_figure'"
     ]
    }
   ],
   "source": [
    "import pickle\n",
    "import matplotlib.pyplot as plt   \n",
    "ax = pickle.load(open(\"myplot.pkl\", \"rb\"))\n",
    "plt.show()"
   ]
  },
  {
   "cell_type": "code",
   "execution_count": 4,
   "metadata": {
    "collapsed": true
   },
   "outputs": [],
   "source": [
    "import numpy as np\n",
    "import json\n",
    "import plotter\n",
    "import pylab as plt \n",
    "import constants as const\n",
    "from scipy.spatial import distance \n",
    "from scipy.optimize import linear_sum_assignment\n",
    "from shapely.geometry.linestring import LineString\n",
    "import argparse\n",
    "import logging\n",
    "import os.path\n",
    "import itertools\n",
    "import os\n",
    "import dill"
   ]
  },
  {
   "cell_type": "code",
   "execution_count": 8,
   "metadata": {
    "collapsed": false
   },
   "outputs": [
    {
     "data": {
      "text/plain": [
       "array([[0, 1, 2],\n",
       "       [0, 2, 1],\n",
       "       [1, 0, 2],\n",
       "       [1, 2, 0],\n",
       "       [2, 0, 1],\n",
       "       [2, 1, 0]])"
      ]
     },
     "execution_count": 8,
     "metadata": {},
     "output_type": "execute_result"
    }
   ],
   "source": [
    "np.array(list(itertools.permutations(range(3))))"
   ]
  },
  {
   "cell_type": "code",
   "execution_count": 34,
   "metadata": {
    "collapsed": false
   },
   "outputs": [
    {
     "data": {
      "text/plain": [
       "(2, 3)"
      ]
     },
     "execution_count": 34,
     "metadata": {},
     "output_type": "execute_result"
    }
   ],
   "source": [
    "b = np.array([[63.8168, 0.00159368, -5.14315*10**-6],\n",
    "              [63.8168, 0.00159368, -5.14315*10**-6]])\n",
    "b.shape"
   ]
  },
  {
   "cell_type": "code",
   "execution_count": 35,
   "metadata": {
    "collapsed": false
   },
   "outputs": [],
   "source": [
    "a=np.array([[63.8168, 0.00159368, -5.14315*10**-6], [75.6552, 0.0018184, -5.28723*10**-6]])#, \n",
    "#             [87.6753, 0.00110761 -4.25759*10**-6], \n",
    "#             [99.742, 0.0017248, -5.03802*10**-6], \n",
    "#             [111.731, 0.00182788, -5.14512*10**-6], \n",
    "#             [123.743, 0.00134928, -4.50364*10**-6], \n",
    "#             [135.788, -0.000400901,  -2.13853*10**-6], \n",
    "#             [0., 0., 0.],\n",
    "#             [159.696, -0.00134634,  -5.88114*10**-7], \n",
    "#             [171.742, -0.00092513, -1.22513*10**-6], \n",
    "#             [183.977, -0.00178464, -1.29449*10**-6], \n",
    "#             [0., 0., 0.], \n",
    "#             [267.469, -0.00266766, 1.18696*10**-6], \n",
    "#             [279.389, -0.00292473, 1.93398*10**-6], \n",
    "#             [291.537, -0.00307161, 1.99748*10**-6], \n",
    "#             [303.404, -0.00289977,  1.7745*10**-6], \n",
    "#             [315.713, -0.00382432,  2.36483*10**-6], \n",
    "#             [327.903, -0.00511395,  3.98343*10**-6], \n",
    "#             [339.219, -0.00243858, 1.55742*10**-6]])"
   ]
  },
  {
   "cell_type": "code",
   "execution_count": 13,
   "metadata": {
    "collapsed": true
   },
   "outputs": [],
   "source": [
    "import pyfits as pf"
   ]
  },
  {
   "cell_type": "code",
   "execution_count": 15,
   "metadata": {
    "collapsed": false
   },
   "outputs": [
    {
     "name": "stdout",
     "output_type": "stream",
     "text": [
      "Makefile            PRAX_detector.pyc   PRAX_viewer.py      README.md           \u001b[34msource\u001b[m\u001b[m/             viewer test.py\r\n",
      "\u001b[31mPRAXIS_sample.fits\u001b[m\u001b[m* PRAX_dr.py          PRAX_viewer.pyc     \u001b[34mbuild\u001b[m\u001b[m/              viewer test.html\r\n",
      "\u001b[31mPRAX_detector.py\u001b[m\u001b[m*   PRAX_dr.pyc         PTC-Remote.py       \u001b[34msample_fits\u001b[m\u001b[m/        viewer test.ipynb\r\n"
     ]
    }
   ],
   "source": [
    "ls"
   ]
  },
  {
   "cell_type": "code",
   "execution_count": 14,
   "metadata": {
    "collapsed": false
   },
   "outputs": [
    {
     "name": "stdout",
     "output_type": "stream",
     "text": [
      "/Users/cbacigalupo/Documents/workspace/PRAXIS\n"
     ]
    }
   ],
   "source": [
    "cd ../PRAXIS/"
   ]
  },
  {
   "cell_type": "code",
   "execution_count": 16,
   "metadata": {
    "collapsed": true
   },
   "outputs": [],
   "source": [
    "fits = pf.open('tram.fits')"
   ]
  },
  {
   "cell_type": "code",
   "execution_count": 17,
   "metadata": {
    "collapsed": true
   },
   "outputs": [],
   "source": [
    "data = fits[0].data"
   ]
  },
  {
   "cell_type": "code",
   "execution_count": 19,
   "metadata": {
    "collapsed": true
   },
   "outputs": [],
   "source": [
    "np.save('tram_coef',a)"
   ]
  },
  {
   "cell_type": "code",
   "execution_count": 36,
   "metadata": {
    "collapsed": false
   },
   "outputs": [
    {
     "data": {
      "text/plain": [
       "(19,)"
      ]
     },
     "execution_count": 36,
     "metadata": {},
     "output_type": "execute_result"
    }
   ],
   "source": [
    "a.shape"
   ]
  },
  {
   "cell_type": "code",
   "execution_count": 27,
   "metadata": {
    "collapsed": false
   },
   "outputs": [
    {
     "data": {
      "text/plain": [
       "(19,)"
      ]
     },
     "execution_count": 27,
     "metadata": {},
     "output_type": "execute_result"
    }
   ],
   "source": [
    "np.array(a).shape"
   ]
  },
  {
   "cell_type": "code",
   "execution_count": null,
   "metadata": {
    "collapsed": true
   },
   "outputs": [],
   "source": []
  }
 ],
 "metadata": {
  "kernelspec": {
   "display_name": "Python 2",
   "language": "python",
   "name": "python2"
  },
  "language_info": {
   "codemirror_mode": {
    "name": "ipython",
    "version": 2
   },
   "file_extension": ".py",
   "mimetype": "text/x-python",
   "name": "python",
   "nbconvert_exporter": "python",
   "pygments_lexer": "ipython2",
   "version": "2.7.11"
  }
 },
 "nbformat": 4,
 "nbformat_minor": 2
}
